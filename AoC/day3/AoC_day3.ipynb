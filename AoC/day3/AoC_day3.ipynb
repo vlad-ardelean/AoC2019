{
 "cells": [
  {
   "cell_type": "code",
   "execution_count": 216,
   "metadata": {},
   "outputs": [],
   "source": [
    "import numpy as np\n",
    "import pandas as pd\n",
    "import copy"
   ]
  },
  {
   "cell_type": "code",
   "execution_count": 19,
   "metadata": {},
   "outputs": [],
   "source": [
    "dta = pd.read_csv('input.txt', header = None)"
   ]
  },
  {
   "cell_type": "code",
   "execution_count": 20,
   "metadata": {},
   "outputs": [
    {
     "data": {
      "text/html": [
       "<div>\n",
       "<style scoped>\n",
       "    .dataframe tbody tr th:only-of-type {\n",
       "        vertical-align: middle;\n",
       "    }\n",
       "\n",
       "    .dataframe tbody tr th {\n",
       "        vertical-align: top;\n",
       "    }\n",
       "\n",
       "    .dataframe thead th {\n",
       "        text-align: right;\n",
       "    }\n",
       "</style>\n",
       "<table border=\"1\" class=\"dataframe\">\n",
       "  <thead>\n",
       "    <tr style=\"text-align: right;\">\n",
       "      <th></th>\n",
       "      <th>0</th>\n",
       "      <th>1</th>\n",
       "      <th>2</th>\n",
       "      <th>3</th>\n",
       "      <th>4</th>\n",
       "      <th>5</th>\n",
       "      <th>6</th>\n",
       "      <th>7</th>\n",
       "      <th>8</th>\n",
       "      <th>9</th>\n",
       "      <th>...</th>\n",
       "      <th>291</th>\n",
       "      <th>292</th>\n",
       "      <th>293</th>\n",
       "      <th>294</th>\n",
       "      <th>295</th>\n",
       "      <th>296</th>\n",
       "      <th>297</th>\n",
       "      <th>298</th>\n",
       "      <th>299</th>\n",
       "      <th>300</th>\n",
       "    </tr>\n",
       "  </thead>\n",
       "  <tbody>\n",
       "    <tr>\n",
       "      <th>0</th>\n",
       "      <td>R991</td>\n",
       "      <td>U77</td>\n",
       "      <td>L916</td>\n",
       "      <td>D26</td>\n",
       "      <td>R424</td>\n",
       "      <td>D739</td>\n",
       "      <td>L558</td>\n",
       "      <td>D439</td>\n",
       "      <td>R636</td>\n",
       "      <td>U616</td>\n",
       "      <td>...</td>\n",
       "      <td>D143</td>\n",
       "      <td>L176</td>\n",
       "      <td>U673</td>\n",
       "      <td>L772</td>\n",
       "      <td>D93</td>\n",
       "      <td>L10</td>\n",
       "      <td>D624</td>\n",
       "      <td>L244</td>\n",
       "      <td>D993</td>\n",
       "      <td>R346</td>\n",
       "    </tr>\n",
       "    <tr>\n",
       "      <th>1</th>\n",
       "      <td>L997</td>\n",
       "      <td>U989</td>\n",
       "      <td>L596</td>\n",
       "      <td>U821</td>\n",
       "      <td>L419</td>\n",
       "      <td>U118</td>\n",
       "      <td>R258</td>\n",
       "      <td>D239</td>\n",
       "      <td>R902</td>\n",
       "      <td>D810</td>\n",
       "      <td>...</td>\n",
       "      <td>U696</td>\n",
       "      <td>R248</td>\n",
       "      <td>D746</td>\n",
       "      <td>R990</td>\n",
       "      <td>U829</td>\n",
       "      <td>R812</td>\n",
       "      <td>U294</td>\n",
       "      <td>L462</td>\n",
       "      <td>U740</td>\n",
       "      <td>R780</td>\n",
       "    </tr>\n",
       "  </tbody>\n",
       "</table>\n",
       "<p>2 rows × 301 columns</p>\n",
       "</div>"
      ],
      "text/plain": [
       "    0     1     2     3     4     5     6     7     8     9    ...    291  \\\n",
       "0  R991   U77  L916   D26  R424  D739  L558  D439  R636  U616  ...   D143   \n",
       "1  L997  U989  L596  U821  L419  U118  R258  D239  R902  D810  ...   U696   \n",
       "\n",
       "    292   293   294   295   296   297   298   299   300  \n",
       "0  L176  U673  L772   D93   L10  D624  L244  D993  R346  \n",
       "1  R248  D746  R990  U829  R812  U294  L462  U740  R780  \n",
       "\n",
       "[2 rows x 301 columns]"
      ]
     },
     "execution_count": 20,
     "metadata": {},
     "output_type": "execute_result"
    }
   ],
   "source": [
    "dta"
   ]
  },
  {
   "cell_type": "code",
   "execution_count": 241,
   "metadata": {},
   "outputs": [],
   "source": [
    "def calc_path(x, a_size):\n",
    "    board = np.zeros([a_size, a_size])\n",
    "    current_value = [round(a_size/2), round(a_size/2)]\n",
    "    next_value = [round(a_size/2), round(a_size/2)]\n",
    "    board[current_value[0], current_value[1]] = 99\n",
    "    print(current_value)\n",
    "    for c in x:\n",
    "        current_value = copy.copy(next_value)\n",
    "        print(c)\n",
    "        direction = c[0]\n",
    "        step_len = int(c[1:])\n",
    "        if direction == 'R':\n",
    "            next_value[1] = current_value[1] + step_len\n",
    "            board[current_value[0], current_value[1]:next_value[1] ]  = 1\n",
    "            print(next_value)\n",
    "        if direction == 'D':\n",
    "            next_value[0] = current_value[0] + step_len\n",
    "            board[current_value[0]:next_value[0], current_value[1] ]  = 1\n",
    "            print(next_value)\n",
    "        if direction == 'U':\n",
    "            next_value[0] = current_value[0] - step_len\n",
    "            board[next_value[0]:current_value[0] , current_value[1] ]  = 1\n",
    "            print(next_value)\n",
    "        if direction == 'L':\n",
    "            next_value[1] = current_value[1] - step_len\n",
    "            board[current_value[0], next_value[1]: current_value[1]]   = 1 \n",
    "            print(next_value)\n",
    "    return(board)        "
   ]
  },
  {
   "cell_type": "code",
   "execution_count": 203,
   "metadata": {},
   "outputs": [],
   "source": [
    "a_size=5\n",
    "board = np.zeros([a_size, a_size])\n",
    "current_value = [round(a_size/2), round(a_size/2)]\n",
    "next_value = [round(a_size/2), round(a_size/2)]\n",
    "board[current_value[0], current_value[1]] = 99"
   ]
  },
  {
   "cell_type": "code",
   "execution_count": 204,
   "metadata": {},
   "outputs": [],
   "source": [
    "direction = c[0]\n",
    "step_len = int(c[1:])"
   ]
  },
  {
   "cell_type": "code",
   "execution_count": 205,
   "metadata": {},
   "outputs": [],
   "source": [
    "next_value[0] = current_value[0] + step_len\n",
    "board[next_value[0]:current_value[0], current_value[1]]  = 1 "
   ]
  },
  {
   "cell_type": "code",
   "execution_count": 206,
   "metadata": {},
   "outputs": [
    {
     "name": "stdout",
     "output_type": "stream",
     "text": [
      "[2, 2]\n",
      "[3, 2]\n"
     ]
    }
   ],
   "source": [
    "print(current_value)\n",
    "print(next_value)"
   ]
  },
  {
   "cell_type": "code",
   "execution_count": 207,
   "metadata": {},
   "outputs": [],
   "source": [
    "board[ next_value[0], current_value[1] ]= 1"
   ]
  },
  {
   "cell_type": "code",
   "execution_count": 208,
   "metadata": {},
   "outputs": [
    {
     "data": {
      "text/plain": [
       "array([[ 0.,  0.,  0.,  0.,  0.],\n",
       "       [ 0.,  0.,  0.,  0.,  0.],\n",
       "       [ 0.,  0., 99.,  0.,  0.],\n",
       "       [ 0.,  0.,  1.,  0.,  0.],\n",
       "       [ 0.,  0.,  0.,  0.,  0.]])"
      ]
     },
     "execution_count": 208,
     "metadata": {},
     "output_type": "execute_result"
    }
   ],
   "source": [
    "board"
   ]
  },
  {
   "cell_type": "code",
   "execution_count": 169,
   "metadata": {},
   "outputs": [
    {
     "data": {
      "text/plain": [
       "array([[0., 0., 0., 0., 0.],\n",
       "       [0., 0., 0., 0., 0.],\n",
       "       [0., 0., 1., 0., 0.],\n",
       "       [0., 0., 0., 0., 0.],\n",
       "       [0., 0., 0., 0., 0.]])"
      ]
     },
     "execution_count": 169,
     "metadata": {},
     "output_type": "execute_result"
    }
   ],
   "source": [
    "board"
   ]
  },
  {
   "cell_type": "code",
   "execution_count": 116,
   "metadata": {},
   "outputs": [
    {
     "data": {
      "text/plain": [
       "[4, 3]"
      ]
     },
     "execution_count": 116,
     "metadata": {},
     "output_type": "execute_result"
    }
   ],
   "source": [
    "current_value"
   ]
  },
  {
   "cell_type": "code",
   "execution_count": 117,
   "metadata": {},
   "outputs": [
    {
     "data": {
      "text/plain": [
       "[4, 3]"
      ]
     },
     "execution_count": 117,
     "metadata": {},
     "output_type": "execute_result"
    }
   ],
   "source": [
    "next_value"
   ]
  },
  {
   "cell_type": "code",
   "execution_count": 154,
   "metadata": {},
   "outputs": [
    {
     "data": {
      "text/plain": [
       "2"
      ]
     },
     "execution_count": 154,
     "metadata": {},
     "output_type": "execute_result"
    }
   ],
   "source": [
    "round(5/2)"
   ]
  },
  {
   "cell_type": "code",
   "execution_count": 92,
   "metadata": {},
   "outputs": [],
   "source": [
    "c = 'U1'"
   ]
  },
  {
   "cell_type": "code",
   "execution_count": 242,
   "metadata": {},
   "outputs": [
    {
     "name": "stdout",
     "output_type": "stream",
     "text": [
      "[2, 2]\n",
      "U2\n",
      "[0, 2]\n",
      "R2\n",
      "[0, 4]\n",
      "D3\n",
      "[3, 4]\n",
      "L3\n",
      "[3, 1]\n"
     ]
    },
    {
     "data": {
      "text/plain": [
       "array([[ 0.,  0.,  1.,  1.,  1.],\n",
       "       [ 0.,  0.,  1.,  0.,  1.],\n",
       "       [ 0.,  0., 99.,  0.,  1.],\n",
       "       [ 0.,  1.,  1.,  1.,  0.],\n",
       "       [ 0.,  0.,  0.,  0.,  0.]])"
      ]
     },
     "execution_count": 242,
     "metadata": {},
     "output_type": "execute_result"
    }
   ],
   "source": [
    "calc_path(['U2', 'R2', 'D3', 'L3'],5)"
   ]
  },
  {
   "cell_type": "code",
   "execution_count": 58,
   "metadata": {},
   "outputs": [],
   "source": [
    "x = [1,0]\n",
    "y = [3,0]"
   ]
  },
  {
   "cell_type": "code",
   "execution_count": 190,
   "metadata": {},
   "outputs": [],
   "source": [
    "board[2:5,2]  = 1"
   ]
  },
  {
   "cell_type": "code",
   "execution_count": 191,
   "metadata": {},
   "outputs": [
    {
     "data": {
      "text/plain": [
       "array([[0., 0., 0., 0., 0.],\n",
       "       [0., 0., 0., 0., 0.],\n",
       "       [0., 0., 1., 0., 0.],\n",
       "       [0., 0., 1., 0., 0.],\n",
       "       [0., 0., 1., 0., 0.]])"
      ]
     },
     "execution_count": 191,
     "metadata": {},
     "output_type": "execute_result"
    }
   ],
   "source": [
    "board"
   ]
  },
  {
   "cell_type": "code",
   "execution_count": 70,
   "metadata": {},
   "outputs": [
    {
     "data": {
      "text/plain": [
       "array([1.00000000e+000, 9.34605037e-307, 4.89527114e-307, 9.34613864e-307,\n",
       "       1.33511494e-306])"
      ]
     },
     "execution_count": 70,
     "metadata": {},
     "output_type": "execute_result"
    }
   ],
   "source": [
    "z[1,:]"
   ]
  }
 ],
 "metadata": {
  "kernelspec": {
   "display_name": "Python 3",
   "language": "python",
   "name": "python3"
  },
  "language_info": {
   "codemirror_mode": {
    "name": "ipython",
    "version": 3
   },
   "file_extension": ".py",
   "mimetype": "text/x-python",
   "name": "python",
   "nbconvert_exporter": "python",
   "pygments_lexer": "ipython3",
   "version": "3.7.1"
  }
 },
 "nbformat": 4,
 "nbformat_minor": 2
}
