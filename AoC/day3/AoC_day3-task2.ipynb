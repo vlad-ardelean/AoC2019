{
 "cells": [
  {
   "cell_type": "code",
   "execution_count": 1,
   "metadata": {},
   "outputs": [],
   "source": [
    "import numpy as np\n",
    "import pandas as pd\n",
    "import copy"
   ]
  },
  {
   "cell_type": "code",
   "execution_count": 2,
   "metadata": {},
   "outputs": [],
   "source": [
    "dta = pd.read_csv('input.txt', header = None)"
   ]
  },
  {
   "cell_type": "code",
   "execution_count": 4,
   "metadata": {},
   "outputs": [],
   "source": [
    "def calc_path(x, a_size):\n",
    "    board = np.zeros([a_size, a_size])\n",
    "    current_value = [round(a_size/2), round(a_size/2)]\n",
    "    next_value = [round(a_size/2), round(a_size/2)]\n",
    "    board[current_value[0], current_value[1]] = 99\n",
    "    step_counter = 1\n",
    "    #print(current_value)\n",
    "    for c in x:\n",
    "        current_value = copy.copy(next_value)\n",
    "        #print(c)\n",
    "        direction = c[0]\n",
    "        step_len = int(c[1:])\n",
    "        if direction == 'R':\n",
    "            next_value[1] = current_value[1] + step_len\n",
    "            board[current_value[0], current_value[1]:next_value[1] ]  = step_counter\n",
    "           # print(next_value)\n",
    "        if direction == 'D':\n",
    "            next_value[0] = current_value[0] + step_len\n",
    "            board[current_value[0]:next_value[0], next_value[1] ]  = 1\n",
    "            #print(next_value)\n",
    "        if direction == 'U':\n",
    "            next_value[0] = current_value[0] - step_len\n",
    "            board[next_value[0]:current_value[0] , next_value[1] ]  = 1\n",
    "            #print(next_value)\n",
    "        if direction == 'L':\n",
    "            next_value[1] = current_value[1] - step_len\n",
    "            board[next_value[0], next_value[1]: current_value[1]]   = 1 \n",
    "            #print(next_value)\n",
    "    return(board)   "
   ]
  },
  {
   "cell_type": "code",
   "execution_count": 85,
   "metadata": {},
   "outputs": [],
   "source": [
    "def calc_path_len(x, a_size):\n",
    "    board = np.zeros([a_size, a_size])\n",
    "    current_value = [round(a_size/2), round(a_size/2)]\n",
    "    next_value = [round(a_size/2), round(a_size/2)]\n",
    "    board[current_value[0], current_value[1]] = 99\n",
    "    step_counter = 0\n",
    "    #print(current_value)\n",
    "    for c in x:\n",
    "        current_value = copy.copy(next_value)\n",
    "        #print(c)\n",
    "        direction = c[0]\n",
    "        step_len = int(c[1:])\n",
    "        step_inc = np.array(range(step_counter,(step_counter+step_len)))\n",
    "        if direction == 'R':\n",
    "            next_value[1] = current_value[1] + step_len\n",
    "            board[current_value[0], current_value[1]:next_value[1] ]  = step_inc\n",
    "           # print(next_value)\n",
    "        if direction == 'D':\n",
    "            next_value[0] = current_value[0] + step_len\n",
    "            print(next_value)\n",
    "            print(current_value)\n",
    "            board[current_value[0]:next_value[0], next_value[1] ]  = step_inc\n",
    "            #print(next_value)\n",
    "        if direction == 'U':\n",
    "            next_value[0] = current_value[0] - step_len\n",
    "            board[next_value[0]:current_value[0] , next_value[1] ]  = step_inc[::-1]\n",
    "            #print(next_value)\n",
    "        if direction == 'L':\n",
    "            next_value[1] = current_value[1] - step_len\n",
    "            print(next_value[1])\n",
    "            print(current_value[1])\n",
    "            board[next_value[0], next_value[1]: current_value[1]]   = step_inc[::-1]\n",
    "            #print(next_value)\n",
    "        step_counter = step_counter+step_len\n",
    "    return(board)        "
   ]
  },
  {
   "cell_type": "code",
   "execution_count": 93,
   "metadata": {},
   "outputs": [
    {
     "name": "stdout",
     "output_type": "stream",
     "text": [
      "[4, 4]\n",
      "[0, 4]\n",
      "1\n",
      "4\n",
      "0\n",
      "1\n",
      "[1, 0]\n",
      "[0, 0]\n"
     ]
    },
    {
     "data": {
      "text/plain": [
       "array([[16., 14.,  2.,  3.,  4.],\n",
       "       [ 0., 13.,  0.,  0.,  5.],\n",
       "       [ 0., 12., 99.,  0.,  6.],\n",
       "       [ 0., 11.,  0.,  0.,  7.],\n",
       "       [ 0., 10.,  9.,  8.,  0.]])"
      ]
     },
     "execution_count": 93,
     "metadata": {},
     "output_type": "execute_result"
    }
   ],
   "source": [
    "calc_path_len(['U2', 'R2', 'D4', 'L3', 'U4', 'L1', 'D1'],5)"
   ]
  },
  {
   "cell_type": "code",
   "execution_count": 94,
   "metadata": {},
   "outputs": [],
   "source": [
    "board = np.zeros([a_size, a_size])\n",
    "current_value = [round(a_size/2), round(a_size/2)]\n",
    "next_value = [round(a_size/2), round(a_size/2)]\n",
    "board[current_value[0], current_value[1]] = 99\n",
    "step_counter = 0\n",
    "c = 'U2'\n",
    "direction = c[0]\n",
    "step_len = int(c[1:])\n",
    "step_inc = np.array(range(step_counter,(step_counter+step_len)))"
   ]
  },
  {
   "cell_type": "code",
   "execution_count": 95,
   "metadata": {},
   "outputs": [
    {
     "data": {
      "text/plain": [
       "array([1, 0])"
      ]
     },
     "execution_count": 95,
     "metadata": {},
     "output_type": "execute_result"
    }
   ],
   "source": [
    "next_value[0] = current_value[0] - step_len\n",
    "board[next_value[0]:current_value[0] , next_value[1] ]\n",
    "step_inc[::-1]"
   ]
  },
  {
   "cell_type": "code",
   "execution_count": 99,
   "metadata": {},
   "outputs": [
    {
     "data": {
      "text/plain": [
       "array([0., 0.])"
      ]
     },
     "execution_count": 99,
     "metadata": {},
     "output_type": "execute_result"
    }
   ],
   "source": [
    "board[next_value[0]:current_value[0] , next_value[1] ]"
   ]
  },
  {
   "cell_type": "code",
   "execution_count": 86,
   "metadata": {},
   "outputs": [
    {
     "name": "stdout",
     "output_type": "stream",
     "text": [
      "7575\n",
      "8491\n",
      "[7449, 7575]\n",
      "[7423, 7575]\n",
      "[8188, 7999]\n",
      "[7449, 7999]\n",
      "7441\n",
      "7999\n",
      "[8627, 7441]\n",
      "[8188, 7441]\n",
      "7713\n",
      "8077\n",
      "[8664, 7713]\n",
      "[8011, 7713]\n",
      "8193\n",
      "8259\n",
      "[8227, 8193]\n",
      "[7755, 8193]\n",
      "8497\n",
      "8534\n",
      "[7681, 8497]\n",
      "[7321, 8497]\n",
      "8128\n",
      "8497\n",
      "[8132, 8128]\n",
      "[7681, 8128]\n",
      "7479\n",
      "8128\n",
      "[8653, 7479]\n",
      "[8132, 7479]\n",
      "7704\n",
      "7913\n",
      "6855\n",
      "7704\n",
      "[7758, 6855]\n",
      "[6867, 6855]\n",
      "6001\n",
      "6855\n",
      "[8053, 6477]\n",
      "[7534, 6477]\n",
      "5540\n",
      "6477\n",
      "[8493, 6262]\n",
      "[7708, 6262]\n",
      "5950\n",
      "6262\n",
      "[9442, 5950]\n",
      "[8493, 5950]\n",
      "[9658, 6751]\n",
      "[9422, 6751]\n",
      "[9978, 7571]\n",
      "[9658, 7571]\n",
      "7022\n",
      "7571\n",
      "[10609, 7022]\n",
      "[9978, 7022]\n",
      "6899\n",
      "7824\n",
      "[8900, 8411]\n",
      "[8290, 8411]\n",
      "[9653, 8808]\n",
      "[8900, 8808]\n",
      "8699\n",
      "8808\n",
      "9036\n",
      "9353\n",
      "[7774, 9036]\n",
      "[7254, 9036]\n",
      "8096\n",
      "9036\n",
      "[8624, 8096]\n",
      "[7774, 8096]\n",
      "[9425, 8690]\n",
      "[8624, 8690]\n",
      "8268\n",
      "8690\n",
      "9075\n",
      "9151\n",
      "8322\n",
      "9075\n",
      "8139\n",
      "8322\n",
      "7721\n",
      "8580\n",
      "7236\n",
      "7721\n",
      "[7046, 7236]\n",
      "[6807, 7236]\n",
      "[7986, 7690]\n",
      "[7046, 7690]\n",
      "[8690, 8379]\n",
      "[7986, 8379]\n",
      "[8702, 8489]\n",
      "[8690, 8489]\n",
      "[9115, 8859]\n",
      "[8702, 8859]\n",
      "8667\n",
      "8859\n",
      "[10094, 8667]\n",
      "[9115, 8667]\n",
      "[10745, 9657]\n",
      "[10094, 9657]\n",
      "9349\n",
      "9657\n",
      "[11285, 10136]\n",
      "[10568, 10136]\n",
      "[11105, 10392]\n",
      "[10596, 10392]\n",
      "9712\n",
      "10392\n",
      "9365\n",
      "9712\n",
      "[11056, 9365]\n",
      "[10877, 9365]\n",
      "[11096, 9873]\n",
      "[11056, 9873]\n",
      "9371\n",
      "9873\n",
      "8728\n",
      "9371\n",
      "[11015, 9612]\n",
      "[10362, 9612]\n",
      "9589\n",
      "9612\n",
      "[11933, 9589]\n",
      "[11015, 9589]\n",
      "8764\n",
      "9589\n",
      "[12245, 8764]\n",
      "[11933, 8764]\n",
      "8073\n",
      "8764\n",
      "7788\n",
      "8073\n",
      "[12136, 7788]\n",
      "[11953, 7788]\n",
      "8696\n",
      "8785\n",
      "8609\n",
      "9187\n",
      "[11422, 8609]\n",
      "[10491, 8609]\n",
      "8336\n",
      "8609\n",
      "7595\n",
      "8336\n",
      "7397\n",
      "8002\n",
      "6839\n",
      "7397\n",
      "[9933, 8325]\n",
      "[9287, 8325]\n",
      "[10187, 9313]\n",
      "[9933, 9313]\n",
      "9245\n",
      "9313\n",
      "8292\n",
      "9245\n",
      "7850\n",
      "8292\n",
      "[9339, 7850]\n",
      "[8626, 7850]\n",
      "8471\n",
      "9275\n",
      "[8985, 8566]\n",
      "[7990, 8566]\n",
      "[9222, 9384]\n",
      "[8985, 9384]\n",
      "[9242, 10051]\n",
      "[8558, 10051]\n",
      "9713\n",
      "10051\n",
      "[9919, 10176]\n",
      "[8934, 10176]\n",
      "9188\n",
      "10176\n",
      "[10200, 9188]\n",
      "[9919, 9188]\n",
      "9714\n",
      "9946\n",
      "[9271, 10003]\n",
      "[9181, 10003]\n",
      "[9317, 10068]\n",
      "[9271, 10068]\n",
      "[10058, 10954]\n",
      "[9317, 10954]\n",
      "10627\n",
      "10954\n",
      "10099\n",
      "10863\n",
      "10206\n",
      "10857\n",
      "[8129, 10206]\n",
      "[7695, 10206]\n",
      "10159\n",
      "10206\n",
      "[7511, 10866]\n",
      "[7175, 10866]\n",
      "10624\n",
      "10866\n",
      "[7898, 10624]\n",
      "[7511, 10624]\n",
      "10214\n",
      "10624\n",
      "[7917, 10214]\n",
      "[7898, 10214]\n",
      "[8620, 10417]\n",
      "[7917, 10417]\n",
      "10189\n",
      "10417\n",
      "10170\n",
      "10189\n",
      "9855\n",
      "10581\n",
      "9615\n",
      "9855\n",
      "9375\n",
      "9772\n",
      "9250\n",
      "9375\n",
      "[5720, 9250]\n",
      "[4786, 9250]\n",
      "8527\n",
      "9250\n",
      "[5865, 8527]\n",
      "[5720, 8527]\n",
      "8210\n",
      "8527\n",
      "[6094, 8210]\n",
      "[5865, 8210]\n",
      "8147\n",
      "9073\n",
      "[5208, 8147]\n",
      "[5153, 8147]\n",
      "8145\n",
      "8147\n",
      "[5660, 8145]\n",
      "[5208, 8145]\n",
      "[6330, 9040]\n",
      "[5660, 9040]\n",
      "8824\n",
      "9040\n",
      "8309\n",
      "8890\n",
      "8074\n",
      "8309\n",
      "7465\n",
      "8074\n",
      "6615\n",
      "7465\n",
      "6506\n",
      "6615\n",
      "[4482, 6914]\n",
      "[4115, 6914]\n",
      "[4681, 7737]\n",
      "[4482, 7737]\n",
      "7019\n",
      "7737\n",
      "6159\n",
      "7019\n",
      "5851\n",
      "6159\n",
      "[4077, 5851]\n",
      "[3765, 5851]\n",
      "[4748, 6081]\n",
      "[4077, 6081]\n",
      "[5420, 6558]\n",
      "[4748, 6558]\n",
      "6464\n",
      "6558\n",
      "[5256, 6765]\n",
      "[5113, 6765]\n",
      "6465\n",
      "6765\n",
      "[6048, 6465]\n",
      "[5256, 6465]\n",
      "5872\n",
      "6465\n",
      "[6447, 5872]\n",
      "[6048, 5872]\n",
      "[6672, 6712]\n",
      "[6447, 6712]\n",
      "[7156, 7392]\n",
      "[6672, 7392]\n",
      "6746\n",
      "7392\n",
      "[8073, 6746]\n",
      "[7156, 6746]\n",
      "[8286, 6878]\n",
      "[8073, 6878]\n",
      "6099\n",
      "6878\n",
      "[8429, 6099]\n",
      "[8286, 6099]\n",
      "5923\n",
      "6099\n",
      "5151\n",
      "5923\n",
      "[7849, 5151]\n",
      "[7756, 5151]\n",
      "5141\n",
      "5151\n",
      "[8473, 5141]\n",
      "[7849, 5141]\n",
      "4897\n",
      "5141\n",
      "[9466, 4897]\n",
      "[8473, 4897]\n",
      "6503\n",
      "7500\n",
      "5907\n",
      "6503\n",
      "5488\n",
      "5907\n",
      "[5811, 5746]\n",
      "[5572, 5746]\n",
      "[6621, 6648]\n",
      "[5811, 6648]\n",
      "[6892, 7201]\n",
      "[6621, 7201]\n",
      "[7679, 7414]\n",
      "[6892, 7414]\n",
      "[7736, 8137]\n",
      "[7679, 8137]\n",
      "7263\n",
      "8137\n",
      "[8292, 7263]\n",
      "[7736, 7263]\n",
      "7120\n",
      "7316\n",
      "[8788, 7120]\n",
      "[7975, 7120]\n",
      "[8930, 7800]\n",
      "[8637, 7800]\n",
      "7385\n",
      "7800\n",
      "7286\n",
      "7385\n",
      "[6945, 8810]\n",
      "[6446, 8810]\n",
      "[7686, 8943]\n",
      "[6945, 8943]\n",
      "8434\n",
      "9337\n",
      "[6525, 9189]\n",
      "[6149, 9189]\n",
      "9178\n",
      "9189\n",
      "9722\n",
      "10256\n",
      "[6342, 9722]\n",
      "[5711, 9722]\n",
      "9008\n",
      "9722\n",
      "8562\n",
      "9008\n",
      "[6474, 9539]\n",
      "[5743, 9539]\n",
      "[6442, 9850]\n",
      "[6230, 9850]\n",
      "9327\n",
      "9850\n",
      "[7012, 9327]\n",
      "[6442, 9327]\n",
      "9238\n",
      "9327\n",
      "[7339, 9238]\n",
      "[7012, 9238]\n",
      "[6723, 10064]\n",
      "[6119, 10064]\n",
      "[7071, 10128]\n",
      "[6723, 10128]\n",
      "[8065, 10443]\n",
      "[7071, 10443]\n",
      "9935\n",
      "10443\n",
      "[8326, 9935]\n",
      "[8065, 9935]\n",
      "[8376, 9997]\n",
      "[8326, 9997]\n",
      "9650\n",
      "9997\n",
      "[8820, 10060]\n",
      "[8193, 10060]\n",
      "9932\n",
      "10060\n",
      "9129\n",
      "9932\n",
      "[8660, 9129]\n",
      "[7965, 9129]\n",
      "8250\n",
      "9129\n",
      "7621\n",
      "8250\n",
      "[7948, 7621]\n",
      "[7803, 7621]\n",
      "7280\n",
      "7621\n",
      "[8681, 7280]\n",
      "[7948, 7280]\n",
      "6714\n",
      "7280\n",
      "[9307, 6714]\n",
      "[8681, 6714]\n",
      "6412\n",
      "6714\n",
      "6357\n",
      "6412\n",
      "[8617, 6766]\n",
      "[8389, 6766]\n",
      "6789\n",
      "7382\n",
      "[8357, 8014]\n",
      "[7652, 8014]\n",
      "7751\n",
      "8014\n",
      "[8925, 7751]\n",
      "[8357, 7751]\n",
      "[9389, 8682]\n",
      "[8925, 8682]\n",
      "9394\n",
      "9671\n",
      "9257\n",
      "9394\n",
      "8996\n",
      "9257\n",
      "[8086, 8996]\n",
      "[7726, 8996]\n",
      "8951\n",
      "8996\n",
      "[8196, 8951]\n",
      "[8086, 8951]\n",
      "8715\n",
      "8986\n",
      "[8302, 8715]\n",
      "[7984, 8715]\n",
      "8271\n",
      "8715\n",
      "[8729, 8271]\n",
      "[8302, 8271]\n",
      "[9109, 8496]\n",
      "[8729, 8496]\n",
      "7589\n",
      "8496\n",
      "[9302, 7589]\n",
      "[9109, 7589]\n",
      "7471\n",
      "7589\n",
      "7370\n",
      "7471\n",
      "[8859, 7370]\n",
      "[8561, 7370]\n",
      "[9457, 7974]\n",
      "[8859, 7974]\n",
      "7876\n",
      "7974\n",
      "7143\n",
      "7876\n",
      "7061\n",
      "7143\n",
      "[8661, 7061]\n",
      "[8488, 7061]\n",
      "6417\n",
      "7061\n",
      "[8468, 7343]\n",
      "[7858, 7343]\n",
      "[8638, 7367]\n",
      "[8468, 7367]\n",
      "7169\n",
      "7367\n",
      "[8346, 7825]\n",
      "[7872, 7825]\n",
      "7432\n",
      "7825\n",
      "[9280, 7432]\n",
      "[8346, 7432]\n",
      "6643\n",
      "7432\n",
      "5754\n",
      "6643\n",
      "5522\n",
      "5754\n",
      "4645\n",
      "5522\n",
      "[8915, 4645]\n",
      "[8535, 4645]\n",
      "4190\n",
      "4645\n",
      "[9441, 4190]\n",
      "[8915, 4190]\n",
      "[10137, 5089]\n",
      "[9441, 5089]\n",
      "4713\n",
      "5541\n",
      "[10762, 4713]\n",
      "[10042, 4713]\n",
      "4291\n",
      "5083\n",
      "[10302, 4291]\n",
      "[10098, 4291]\n",
      "[11051, 4375]\n",
      "[10302, 4375]\n",
      "5031\n",
      "5183\n",
      "[11294, 5031]\n",
      "[10919, 5031]\n",
      "4435\n",
      "5050\n",
      "[11251, 4435]\n",
      "[11130, 4435]\n",
      "[11540, 5079]\n",
      "[11251, 5079]\n",
      "5156\n",
      "5460\n",
      "5044\n",
      "5156\n",
      "[11174, 5044]\n",
      "[10906, 5044]\n",
      "4472\n",
      "5044\n",
      "[12012, 4472]\n",
      "[11174, 4472]\n",
      "3474\n",
      "4472\n",
      "[12229, 3974]\n",
      "[11885, 3974]\n",
      "3822\n",
      "4668\n",
      "[12343, 3822]\n",
      "[11778, 3822]\n",
      "3550\n",
      "3980\n",
      "[13065, 4121]\n",
      "[12082, 4121]\n",
      "[13292, 4811]\n",
      "[13065, 4811]\n",
      "4704\n",
      "4811\n",
      "4418\n",
      "4704\n",
      "[13249, 4418]\n",
      "[13183, 4418]\n",
      "3874\n",
      "4418\n",
      "3421\n",
      "3874\n",
      "3385\n",
      "3421\n",
      "2868\n",
      "3385\n",
      "2381\n",
      "2868\n",
      "1753\n",
      "2381\n",
      "[9998, 2177]\n",
      "[9589, 2177]\n",
      "[9141, 3070]\n",
      "[8809, 3070]\n",
      "2772\n",
      "3077\n",
      "[9585, 2772]\n",
      "[8646, 2772]\n",
      "2344\n",
      "2772\n",
      "[10406, 2344]\n",
      "[9585, 2344]\n",
      "[10601, 3093]\n",
      "[10406, 3093]\n",
      "[11499, 3624]\n",
      "[10601, 3624]\n",
      "[11802, 3961]\n",
      "[11499, 3961]\n",
      "3563\n",
      "3961\n",
      "[12427, 3563]\n",
      "[11802, 3563]\n",
      "[12930, 3620]\n",
      "[12427, 3620]\n",
      "2921\n",
      "3620\n",
      "[13483, 2921]\n",
      "[12930, 2921]\n",
      "2443\n",
      "2921\n",
      "[12770, 3340]\n",
      "[12767, 3340]\n",
      "4009\n",
      "4754\n",
      "4011\n",
      "4238\n",
      "[11126, 4011]\n",
      "[10672, 4011]\n",
      "4325\n",
      "4681\n",
      "4293\n",
      "4835\n",
      "[10224, 4293]\n",
      "[9784, 4293]\n",
      "[10736, 4449]\n",
      "[10224, 4449]\n",
      "4212\n",
      "4449\n",
      "[11077, 4212]\n",
      "[10736, 4212]\n",
      "3773\n",
      "4212\n",
      "[11085, 4646]\n",
      "[10435, 4646]\n",
      "[11701, 5517]\n",
      "[11085, 5517]\n",
      "[11751, 6087]\n",
      "[11005, 6087]\n",
      "7427\n",
      "7889\n"
     ]
    }
   ],
   "source": [
    "b1 = calc_path_len(dta.loc[0], 15000)\n",
    "b2 = calc_path_len(dta.loc[1], 15000)"
   ]
  },
  {
   "cell_type": "code",
   "execution_count": 87,
   "metadata": {},
   "outputs": [],
   "source": [
    "total = b1+ b2"
   ]
  },
  {
   "cell_type": "code",
   "execution_count": 88,
   "metadata": {},
   "outputs": [],
   "source": [
    "crosses = np.where(total > 0)"
   ]
  },
  {
   "cell_type": "code",
   "execution_count": 89,
   "metadata": {},
   "outputs": [
    {
     "data": {
      "text/plain": [
       "1753"
      ]
     },
     "execution_count": 89,
     "metadata": {},
     "output_type": "execute_result"
    }
   ],
   "source": [
    "np.amin(crosses)\n"
   ]
  },
  {
   "cell_type": "code",
   "execution_count": 90,
   "metadata": {},
   "outputs": [
    {
     "data": {
      "text/plain": [
       "0"
      ]
     },
     "execution_count": 90,
     "metadata": {},
     "output_type": "execute_result"
    }
   ],
   "source": [
    "min(abs(crosses[0]-7500) + abs(crosses[1]-7500))"
   ]
  },
  {
   "cell_type": "code",
   "execution_count": 91,
   "metadata": {},
   "outputs": [
    {
     "data": {
      "text/plain": [
       "3765"
      ]
     },
     "execution_count": 91,
     "metadata": {},
     "output_type": "execute_result"
    }
   ],
   "source": [
    "min(crosses[0])"
   ]
  },
  {
   "cell_type": "code",
   "execution_count": 92,
   "metadata": {},
   "outputs": [
    {
     "data": {
      "text/plain": [
       "1753"
      ]
     },
     "execution_count": 92,
     "metadata": {},
     "output_type": "execute_result"
    }
   ],
   "source": [
    "min(crosses[1])"
   ]
  },
  {
   "cell_type": "code",
   "execution_count": 12,
   "metadata": {},
   "outputs": [
    {
     "ename": "NameError",
     "evalue": "name 'array' is not defined",
     "output_type": "error",
     "traceback": [
      "\u001b[1;31m---------------------------------------------------------------------------\u001b[0m",
      "\u001b[1;31mNameError\u001b[0m                                 Traceback (most recent call last)",
      "\u001b[1;32m<ipython-input-12-522d336030cd>\u001b[0m in \u001b[0;36m<module>\u001b[1;34m\u001b[0m\n\u001b[1;32m----> 1\u001b[1;33m \u001b[0mboard\u001b[0m\u001b[1;33m[\u001b[0m\u001b[1;36m2\u001b[0m\u001b[1;33m:\u001b[0m\u001b[1;36m4\u001b[0m\u001b[1;33m,\u001b[0m \u001b[1;36m2\u001b[0m\u001b[1;33m]\u001b[0m \u001b[1;33m=\u001b[0m \u001b[0marray\u001b[0m\u001b[1;33m[\u001b[0m\u001b[1;33m[\u001b[0m\u001b[1;36m1\u001b[0m\u001b[1;33m,\u001b[0m\u001b[1;36m11\u001b[0m\u001b[1;33m]\u001b[0m\u001b[1;33m]\u001b[0m\u001b[1;33m\u001b[0m\u001b[1;33m\u001b[0m\u001b[0m\n\u001b[0m",
      "\u001b[1;31mNameError\u001b[0m: name 'array' is not defined"
     ]
    }
   ],
   "source": [
    "board[2:4, 2] = array[[1,11]]"
   ]
  },
  {
   "cell_type": "code",
   "execution_count": 6,
   "metadata": {},
   "outputs": [],
   "source": [
    "a_size=5\n",
    "board = np.zeros([a_size, a_size])\n",
    "current_value = [round(a_size/2), round(a_size/2)]\n",
    "next_value = [round(a_size/2), round(a_size/2)]\n",
    "board[current_value[0], current_value[1]] = 99"
   ]
  },
  {
   "cell_type": "code",
   "execution_count": 16,
   "metadata": {},
   "outputs": [],
   "source": [
    "board[1:3,1] = np.array(range(3,5))"
   ]
  },
  {
   "cell_type": "code",
   "execution_count": 17,
   "metadata": {},
   "outputs": [
    {
     "data": {
      "text/plain": [
       "array([[ 0.,  0.,  0.,  0.,  0.],\n",
       "       [ 0.,  3.,  0.,  0.,  0.],\n",
       "       [ 0.,  4., 99.,  0.,  0.],\n",
       "       [ 0.,  0.,  0.,  0.,  0.],\n",
       "       [ 0.,  0.,  0.,  0.,  0.]])"
      ]
     },
     "execution_count": 17,
     "metadata": {},
     "output_type": "execute_result"
    }
   ],
   "source": [
    "board"
   ]
  },
  {
   "cell_type": "code",
   "execution_count": 205,
   "metadata": {},
   "outputs": [],
   "source": [
    "next_value[0] = current_value[0] + step_len\n",
    "board[next_value[0]:current_value[0], current_value[1]]  = 1 "
   ]
  },
  {
   "cell_type": "code",
   "execution_count": 206,
   "metadata": {},
   "outputs": [
    {
     "name": "stdout",
     "output_type": "stream",
     "text": [
      "[2, 2]\n",
      "[3, 2]\n"
     ]
    }
   ],
   "source": [
    "print(current_value)\n",
    "print(next_value)"
   ]
  },
  {
   "cell_type": "code",
   "execution_count": 207,
   "metadata": {},
   "outputs": [],
   "source": [
    "board[ next_value[0], current_value[1] ]= 1"
   ]
  },
  {
   "cell_type": "code",
   "execution_count": 208,
   "metadata": {},
   "outputs": [
    {
     "data": {
      "text/plain": [
       "array([[ 0.,  0.,  0.,  0.,  0.],\n",
       "       [ 0.,  0.,  0.,  0.,  0.],\n",
       "       [ 0.,  0., 99.,  0.,  0.],\n",
       "       [ 0.,  0.,  1.,  0.,  0.],\n",
       "       [ 0.,  0.,  0.,  0.,  0.]])"
      ]
     },
     "execution_count": 208,
     "metadata": {},
     "output_type": "execute_result"
    }
   ],
   "source": [
    "board"
   ]
  },
  {
   "cell_type": "code",
   "execution_count": 169,
   "metadata": {},
   "outputs": [
    {
     "data": {
      "text/plain": [
       "array([[0., 0., 0., 0., 0.],\n",
       "       [0., 0., 0., 0., 0.],\n",
       "       [0., 0., 1., 0., 0.],\n",
       "       [0., 0., 0., 0., 0.],\n",
       "       [0., 0., 0., 0., 0.]])"
      ]
     },
     "execution_count": 169,
     "metadata": {},
     "output_type": "execute_result"
    }
   ],
   "source": [
    "board"
   ]
  },
  {
   "cell_type": "code",
   "execution_count": 116,
   "metadata": {},
   "outputs": [
    {
     "data": {
      "text/plain": [
       "[4, 3]"
      ]
     },
     "execution_count": 116,
     "metadata": {},
     "output_type": "execute_result"
    }
   ],
   "source": [
    "current_value"
   ]
  },
  {
   "cell_type": "code",
   "execution_count": 117,
   "metadata": {},
   "outputs": [
    {
     "data": {
      "text/plain": [
       "[4, 3]"
      ]
     },
     "execution_count": 117,
     "metadata": {},
     "output_type": "execute_result"
    }
   ],
   "source": [
    "next_value"
   ]
  },
  {
   "cell_type": "code",
   "execution_count": 154,
   "metadata": {},
   "outputs": [
    {
     "data": {
      "text/plain": [
       "2"
      ]
     },
     "execution_count": 154,
     "metadata": {},
     "output_type": "execute_result"
    }
   ],
   "source": [
    "round(5/2)"
   ]
  },
  {
   "cell_type": "code",
   "execution_count": 92,
   "metadata": {},
   "outputs": [],
   "source": [
    "c = 'U1'"
   ]
  },
  {
   "cell_type": "code",
   "execution_count": 242,
   "metadata": {},
   "outputs": [
    {
     "name": "stdout",
     "output_type": "stream",
     "text": [
      "[2, 2]\n",
      "U2\n",
      "[0, 2]\n",
      "R2\n",
      "[0, 4]\n",
      "D3\n",
      "[3, 4]\n",
      "L3\n",
      "[3, 1]\n"
     ]
    },
    {
     "data": {
      "text/plain": [
       "array([[ 0.,  0.,  1.,  1.,  1.],\n",
       "       [ 0.,  0.,  1.,  0.,  1.],\n",
       "       [ 0.,  0., 99.,  0.,  1.],\n",
       "       [ 0.,  1.,  1.,  1.,  0.],\n",
       "       [ 0.,  0.,  0.,  0.,  0.]])"
      ]
     },
     "execution_count": 242,
     "metadata": {},
     "output_type": "execute_result"
    }
   ],
   "source": []
  },
  {
   "cell_type": "code",
   "execution_count": 58,
   "metadata": {},
   "outputs": [],
   "source": [
    "x = [1,0]\n",
    "y = [3,0]"
   ]
  },
  {
   "cell_type": "code",
   "execution_count": 1,
   "metadata": {},
   "outputs": [
    {
     "ename": "NameError",
     "evalue": "name 'board' is not defined",
     "output_type": "error",
     "traceback": [
      "\u001b[1;31m---------------------------------------------------------------------------\u001b[0m",
      "\u001b[1;31mNameError\u001b[0m                                 Traceback (most recent call last)",
      "\u001b[1;32m<ipython-input-1-7a7346e247ac>\u001b[0m in \u001b[0;36m<module>\u001b[1;34m\u001b[0m\n\u001b[1;32m----> 1\u001b[1;33m \u001b[0mboard\u001b[0m\u001b[1;33m[\u001b[0m\u001b[1;36m2\u001b[0m\u001b[1;33m:\u001b[0m\u001b[1;36m5\u001b[0m\u001b[1;33m,\u001b[0m\u001b[1;36m2\u001b[0m\u001b[1;33m]\u001b[0m  \u001b[1;33m=\u001b[0m \u001b[1;36m1\u001b[0m\u001b[1;33m\u001b[0m\u001b[1;33m\u001b[0m\u001b[0m\n\u001b[0m",
      "\u001b[1;31mNameError\u001b[0m: name 'board' is not defined"
     ]
    }
   ],
   "source": [
    "board[2:5,2]  = 1"
   ]
  },
  {
   "cell_type": "code",
   "execution_count": 191,
   "metadata": {},
   "outputs": [
    {
     "data": {
      "text/plain": [
       "array([[0., 0., 0., 0., 0.],\n",
       "       [0., 0., 0., 0., 0.],\n",
       "       [0., 0., 1., 0., 0.],\n",
       "       [0., 0., 1., 0., 0.],\n",
       "       [0., 0., 1., 0., 0.]])"
      ]
     },
     "execution_count": 191,
     "metadata": {},
     "output_type": "execute_result"
    }
   ],
   "source": [
    "board"
   ]
  },
  {
   "cell_type": "code",
   "execution_count": 70,
   "metadata": {},
   "outputs": [
    {
     "data": {
      "text/plain": [
       "array([1.00000000e+000, 9.34605037e-307, 4.89527114e-307, 9.34613864e-307,\n",
       "       1.33511494e-306])"
      ]
     },
     "execution_count": 70,
     "metadata": {},
     "output_type": "execute_result"
    }
   ],
   "source": [
    "z[1,:]"
   ]
  }
 ],
 "metadata": {
  "kernelspec": {
   "display_name": "Python 3",
   "language": "python",
   "name": "python3"
  },
  "language_info": {
   "codemirror_mode": {
    "name": "ipython",
    "version": 3
   },
   "file_extension": ".py",
   "mimetype": "text/x-python",
   "name": "python",
   "nbconvert_exporter": "python",
   "pygments_lexer": "ipython3",
   "version": "3.7.1"
  }
 },
 "nbformat": 4,
 "nbformat_minor": 2
}
