{
 "cells": [
  {
   "cell_type": "code",
   "execution_count": 46,
   "metadata": {},
   "outputs": [],
   "source": [
    "import pandas as pd\n",
    "import numpy as np\n",
    "import copy"
   ]
  },
  {
   "cell_type": "code",
   "execution_count": 25,
   "metadata": {},
   "outputs": [],
   "source": [
    "dta = pd.read_csv(filepath_or_buffer=\"input.txt\",header =None)"
   ]
  },
  {
   "cell_type": "code",
   "execution_count": 19,
   "metadata": {},
   "outputs": [],
   "source": [
    "def calc_opod(x):\n",
    "    index = 0\n",
    "    while x[index] != 99:\n",
    "        a = x[x[(index+1)]]\n",
    "        b = x[x[(index+2)]]\n",
    "        res_loc = x[(index+3)]\n",
    "        if x[index] == 1:\n",
    "            res = a + b\n",
    "        if x[index] == 2:\n",
    "            res = a*b\n",
    "        x[res_loc] = res \n",
    "        #print(x)\n",
    "        index = index + 4\n",
    "    return(x)"
   ]
  },
  {
   "cell_type": "code",
   "execution_count": 50,
   "metadata": {},
   "outputs": [],
   "source": [
    "def calc_opod_copy(x):\n",
    "    x_cp = copy.copy(x)\n",
    "    index = 0\n",
    "    while x_cp[index] != 99:\n",
    "        a = x_cp[x_cp[(index+1)]]\n",
    "        b = x_cp[x_cp[(index+2)]]\n",
    "        res_loc = x_cp[(index+3)]\n",
    "        if x_cp[index] == 1:\n",
    "            res = a + b\n",
    "        if x_cp[index] == 2:\n",
    "            res = a*b\n",
    "        x_cp[res_loc] = res \n",
    "        index = index + 4\n",
    "    return(x_cp)"
   ]
  },
  {
   "cell_type": "code",
   "execution_count": null,
   "metadata": {},
   "outputs": [],
   "source": [
    "## Test "
   ]
  },
  {
   "cell_type": "code",
   "execution_count": 5,
   "metadata": {},
   "outputs": [],
   "source": [
    "assert calc_opod([2,3,0,3,99]) ==  [2,3,0,6,99]"
   ]
  },
  {
   "cell_type": "code",
   "execution_count": 6,
   "metadata": {},
   "outputs": [],
   "source": [
    "assert calc_opod([2,4,4,5,99,0]) == [2,4,4,5,99,9801]"
   ]
  },
  {
   "cell_type": "code",
   "execution_count": 7,
   "metadata": {},
   "outputs": [],
   "source": [
    "assert calc_opod([1,1,1,4,99,5,6,0,99]) == [30,1,1,4,2,5,6,0,99]"
   ]
  },
  {
   "cell_type": "code",
   "execution_count": 65,
   "metadata": {},
   "outputs": [],
   "source": [
    "## Solve the puzzle"
   ]
  },
  {
   "cell_type": "code",
   "execution_count": 43,
   "metadata": {},
   "outputs": [
    {
     "data": {
      "text/plain": [
       "3765464"
      ]
     },
     "execution_count": 43,
     "metadata": {},
     "output_type": "execute_result"
    }
   ],
   "source": [
    "dta[1] = 12\n",
    "dta[2] = 2\n",
    "dta_ar = np.array(dta)\n",
    "calc_opod(dta_ar[0])[0]"
   ]
  },
  {
   "cell_type": "code",
   "execution_count": 51,
   "metadata": {},
   "outputs": [],
   "source": [
    "dta_ar = np.array(dta)"
   ]
  },
  {
   "cell_type": "code",
   "execution_count": 69,
   "metadata": {},
   "outputs": [
    {
     "data": {
      "text/plain": [
       "3765464"
      ]
     },
     "execution_count": 69,
     "metadata": {},
     "output_type": "execute_result"
    }
   ],
   "source": [
    "calc_opod_copy(dta_ar[0])[0]"
   ]
  },
  {
   "cell_type": "code",
   "execution_count": 32,
   "metadata": {},
   "outputs": [
    {
     "data": {
      "text/plain": [
       "779478"
      ]
     },
     "execution_count": 32,
     "metadata": {},
     "output_type": "execute_result"
    }
   ],
   "source": []
  },
  {
   "cell_type": "code",
   "execution_count": 33,
   "metadata": {},
   "outputs": [
    {
     "name": "stdout",
     "output_type": "stream",
     "text": [
      "76\n",
      "10\n"
     ]
    }
   ],
   "source": [
    "for noun in range (0,100):\n",
    "    for verb in range (0, 100):\n",
    "        dta[1] = noun\n",
    "        dta[2] = verb\n",
    "        dta_ar = np.array(dta)\n",
    "        temp = calc_opod(dta_ar[0])[0]\n",
    "        if temp == 19690720:\n",
    "            print(noun)\n",
    "            print(verb)\n",
    "\n",
    "        "
   ]
  },
  {
   "cell_type": "code",
   "execution_count": 34,
   "metadata": {},
   "outputs": [
    {
     "data": {
      "text/plain": [
       "7610"
      ]
     },
     "execution_count": 34,
     "metadata": {},
     "output_type": "execute_result"
    }
   ],
   "source": [
    "100 * 76 + 10"
   ]
  }
 ],
 "metadata": {
  "kernelspec": {
   "display_name": "Python 3",
   "language": "python",
   "name": "python3"
  },
  "language_info": {
   "codemirror_mode": {
    "name": "ipython",
    "version": 3
   },
   "file_extension": ".py",
   "mimetype": "text/x-python",
   "name": "python",
   "nbconvert_exporter": "python",
   "pygments_lexer": "ipython3",
   "version": "3.7.1"
  }
 },
 "nbformat": 4,
 "nbformat_minor": 2
}
